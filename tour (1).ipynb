{
 "cells": [
  {
   "cell_type": "code",
   "execution_count": 2,
   "id": "5c244d7b",
   "metadata": {},
   "outputs": [
    {
     "name": "stdout",
     "output_type": "stream",
     "text": [
      "응답 코드: 200\n",
      "✅ 관광지 정보가 'tourist_places.csv'로 저장되었습니다.\n"
     ]
    }
   ],
   "source": [
    "import requests\n",
    "import os\n",
    "import json\n",
    "import pandas as pd\n",
    "from dotenv import load_dotenv\n",
    "from urllib.parse import quote_plus\n",
    "\n",
    "# .env 파일에서 API KEY 불러오기\n",
    "load_dotenv()\n",
    "service_key = os.getenv(\"KEY\")\n",
    "\n",
    "area_code = 32  # 서울\n",
    "\n",
    "# API URL\n",
    "url = (\n",
    "    f\"http://apis.data.go.kr/B551011/KorService2/areaBasedList2?\"\n",
    "    f\"serviceKey={service_key}&\"\n",
    "    f\"numOfRows=30&\"\n",
    "    f\"pageNo=1&\"\n",
    "    f\"MobileOS=ETC&\"\n",
    "    f\"MobileApp=TestApp&\"\n",
    "    f\"areaCode={area_code}&\"\n",
    "    f\"_type=json\"\n",
    ")\n",
    "\n",
    "# 요청\n",
    "response = requests.get(url)\n",
    "print(\"응답 코드:\", response.status_code)\n",
    "\n",
    "try:\n",
    "    data = response.json()\n",
    "    items = data['response']['body']['items']['item']\n",
    "\n",
    "    place_list = []\n",
    "    for item in items:\n",
    "        place_list.append({\n",
    "            '관광지명': item.get('title'),\n",
    "            '주소': item.get('addr1'),\n",
    "            '위도': item.get('mapy'),\n",
    "            '경도': item.get('mapx'),\n",
    "            '전화번호': item.get('tel'),\n",
    "            '콘텐츠ID': item.get('contentid'),\n",
    "            '카테고리': item.get('cat3'),\n",
    "            '관광지코드': item.get('contenttypeid'),\n",
    "            '지역코드': item.get('areacode')  # ✅ 지역코드 추가\n",
    "        })\n",
    "\n",
    "    df = pd.DataFrame(place_list)\n",
    "    df.to_csv(\"tourist_places.csv\", index=False, encoding='utf-8-sig')\n",
    "    print(\"✅ 관광지 정보가 'tourist_places.csv'로 저장되었습니다.\")\n",
    "\n",
    "except Exception as e:\n",
    "    print(\"❌ 오류 발생:\", e)\n",
    "    print(\"응답 내용:\\n\", response.text)\n"
   ]
  }
 ],
 "metadata": {
  "kernelspec": {
   "display_name": "base",
   "language": "python",
   "name": "python3"
  },
  "language_info": {
   "codemirror_mode": {
    "name": "ipython",
    "version": 3
   },
   "file_extension": ".py",
   "mimetype": "text/x-python",
   "name": "python",
   "nbconvert_exporter": "python",
   "pygments_lexer": "ipython3",
   "version": "3.12.7"
  }
 },
 "nbformat": 4,
 "nbformat_minor": 5
}
